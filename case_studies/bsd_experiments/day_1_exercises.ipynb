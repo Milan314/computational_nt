{
 "cells": [
  {
   "cell_type": "markdown",
   "metadata": {},
   "source": [
    "# Day 1 exercises - Playing with elliptic curves in Sage"
   ]
  },
  {
   "cell_type": "markdown",
   "metadata": {},
   "source": [
    "Exercise 0. Make sure you can run the following code (to check everything is working on your system):"
   ]
  },
  {
   "cell_type": "code",
   "execution_count": 1,
   "metadata": {},
   "outputs": [
    {
     "data": {
      "text/plain": [
       "6"
      ]
     },
     "execution_count": 1,
     "metadata": {},
     "output_type": "execute_result"
    }
   ],
   "source": [
    "3+3"
   ]
  },
  {
   "cell_type": "markdown",
   "metadata": {},
   "source": [
    "Exercise 1. Let $E/\\mathbb{Q}$ be the elliptic curve $y^2 = x^3 + 76x + 123$. \n",
    "\n",
    "(a) What is the conductor of $E$?\n",
    "\n",
    "(b) What is the torsion subgroup?\n",
    "\n",
    "(c) What is the (algebraic) rank of $E$? Find a set of independent generators for the Mordell-Weil group $E(\\mathbb{Q})$."
   ]
  },
  {
   "cell_type": "code",
   "execution_count": 7,
   "metadata": {},
   "outputs": [
    {
     "name": "stdout",
     "output_type": "stream",
     "text": [
      "rank is 1\n",
      "generators are [(-79/121 : 11380/1331 : 1)]\n"
     ]
    }
   ],
   "source": [
    "E = EllipticCurve([76,123])\n",
    "# conductor and its prime factorization:\n",
    "E.conductor().factor()\n",
    "# computing the torsion subgroup:\n",
    "G = E.torsion_subgroup()\n",
    "G\n",
    "# rank and generators:\n",
    "print('rank is', E.rank())\n",
    "print('generators are', E.gens())\n"
   ]
  },
  {
   "cell_type": "markdown",
   "metadata": {},
   "source": [
    "Exercise 2. Let $E/\\mathbb{Q}$ be the elliptic curve $y^2 = x^3 - 17x + 1$. \n",
    "\n",
    "(a) Plot the real points of $E$.\n",
    "\n",
    "(b) Choose three primes of good reduction for $E$. For each prime $p$, compute the number of $\\mathbb{F}_{p^i}$-points for $1 \\leq i \\leq 5$. \n",
    "\n",
    "(c) Write a function which takes as input an elliptic curve over $\\mathbb{Q}$, and a prime of good reduction for that curve, and returns the number of $\\mathbb{F}_p$-points on the curve.\n",
    "\n",
    "(d) Use your function to find an elliptic curve over $\\mathbb{F}_{101}$ admitting 123 points (rational over $\\mathbb{F}_{101}$)."
   ]
  },
  {
   "cell_type": "code",
   "execution_count": 12,
   "metadata": {},
   "outputs": [
    {
     "name": "stdout",
     "output_type": "stream",
     "text": [
      "2 bad reduction\n",
      "3 good reduction\n",
      "5 bad reduction\n",
      "7 good reduction\n",
      "11 good reduction\n",
      "Over the field 3 the number of points is 4\n",
      "Over the field 9 the number of points is 16\n",
      "Over the field 27 the number of points is 28\n",
      "Over the field 81 the number of points is 64\n",
      "Over the field 243 the number of points is 244\n",
      "Over the field 7 the number of points is 5\n",
      "Over the field 49 the number of points is 55\n",
      "Over the field 343 the number of points is 380\n",
      "Over the field 2401 the number of points is 2475\n",
      "Over the field 16807 the number of points is 16775\n",
      "Over the field 11 the number of points is 11\n",
      "Over the field 121 the number of points is 143\n",
      "Over the field 1331 the number of points is 1364\n",
      "Over the field 14641 the number of points is 14443\n",
      "Over the field 161051 the number of points is 160501\n",
      "2 bad reduction, bad!\n"
     ]
    },
    {
     "data": {
      "text/plain": [
       "3"
      ]
     },
     "execution_count": 12,
     "metadata": {},
     "output_type": "execute_result"
    }
   ],
   "source": [
    "    E = EllipticCurve([0,0,0,-17,1])\n",
    "    E\n",
    "    # plotting real points:\n",
    "    E.plot(xmin=-20,xmax=20,ymin=-40,ymax=40)\n",
    "    # check if E has bad reduction at p=11:\n",
    "    pp=11\n",
    "    da=E.local_data(pp)\n",
    "    da.has_bad_reduction()\n",
    "    # print reduction type for each p\n",
    "    for p in [2,3,5,7,11]:\n",
    "        da = E.local_data(p)\n",
    "        if   da.has_bad_reduction():\n",
    "              print(p, 'bad reduction')\n",
    "        else: print(p, 'good reduction')\n",
    "    # print cardinality of group of points over each p^i:\n",
    "    for p in [3,7,11]:\n",
    "        for i in range(1,6):\n",
    "            k.<a> = GF(p^i)\n",
    "            E = EllipticCurve(k,[0,0,0,-17,1])\n",
    "            print('Over the field', p^i, 'the number of points is', E.cardinality())\n",
    "    # function with input curve and prime and output cardinality:\n",
    "    def my_function(curvedata,prime):\n",
    "        curve = EllipticCurve(curvedata)\n",
    "        da = curve.local_data(prime)\n",
    "        if da.has_bad_reduction():\n",
    "            print(prime, 'bad reduction, bad!')\n",
    "        else: \n",
    "            k.<a> = GF(prime)\n",
    "            E = EllipticCurve(k, curvedata)\n",
    "            print('Curve:', curve, 'chosen prime:', prime, 'Cardinality:', E.cardinality())\n",
    "    \n",
    "    my_function([0,0,0,-17,1], 2)\n",
    "    # alternative function with input curve and prime and output cardinality:\n",
    "    def emodp(E,p):\n",
    "        curve = EllipticCurve(E)\n",
    "        return curve.Np(p)\n",
    "    \n",
    "    emodp([0,0,0,-17,1], 2)"
   ]
  },
  {
   "cell_type": "markdown",
   "metadata": {},
   "source": [
    "Exercise 3. Let $K$ be the Galois cubic field of smallest absolute discriminant. What is a polynomial which defines $K$?"
   ]
  },
  {
   "cell_type": "code",
   "execution_count": null,
   "metadata": {},
   "outputs": [],
   "source": []
  },
  {
   "cell_type": "markdown",
   "metadata": {},
   "source": [
    "Exercise 4. Let $a$ be a generator of the number field $K$ in Exercise 3, and let $E/K$ be the elliptic curve $y^2 + ay = x^3 + 10ax + 19$.\n",
    "\n",
    "(a) What is the conductor of $E$? What is the norm of this conductor?\n",
    "\n",
    "(b) Choose three prime ideals of good reduction for $E$. For each prime ideal $\\mathfrak{p}$, compute the number of $\\mathbb{F}_{\\mathfrak{p}}$-points."
   ]
  },
  {
   "cell_type": "code",
   "execution_count": null,
   "metadata": {},
   "outputs": [],
   "source": []
  },
  {
   "cell_type": "markdown",
   "metadata": {},
   "source": [
    "Exercise 5. Generalise the function you wrote in Exercise 2 to take as input an elliptic curve over any number field, and a prime ideal $\\mathfrak{p}$ of that number field of good reduction, and returns the number of $\\mathbb{F}_\\mathfrak{p}$-points on the curve."
   ]
  },
  {
   "cell_type": "code",
   "execution_count": null,
   "metadata": {},
   "outputs": [],
   "source": []
  },
  {
   "cell_type": "markdown",
   "metadata": {},
   "source": [
    "Exercise 6. Let $a$ be a generator of the number field $K$ in Exercise 3, and let $E/K$ be the elliptic curve ${y}^2+a{y}={x}^{3}-a{x}^{2}+\\left(652a^{2}-391a-1564\\right){x}+10528a^{2}-5979a-24046$. \n",
    "\n",
    "Take 200 prime ideals of $K$ of good reduction, and use your function from Exercise 5 to compute the number of points over the reduction. What do you notice? Can you explain this?"
   ]
  },
  {
   "cell_type": "code",
   "execution_count": null,
   "metadata": {},
   "outputs": [],
   "source": []
  }
 ],
 "metadata": {
  "kernelspec": {
   "display_name": "SageMath 9.2",
   "language": "sage",
   "name": "sagemath"
  },
  "language_info": {
   "codemirror_mode": {
    "name": "ipython",
    "version": 3
   },
   "file_extension": ".py",
   "mimetype": "text/x-python",
   "name": "python",
   "nbconvert_exporter": "python",
   "pygments_lexer": "ipython3",
   "version": "3.7.7"
  }
 },
 "nbformat": 4,
 "nbformat_minor": 4
}
