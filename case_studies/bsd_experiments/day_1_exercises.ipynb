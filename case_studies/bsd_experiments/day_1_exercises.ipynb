{
 "cells": [
  {
   "cell_type": "markdown",
   "metadata": {},
   "source": [
    "# Day 1 exercises - Playing with elliptic curves in Sage"
   ]
  },
  {
   "cell_type": "markdown",
   "metadata": {},
   "source": [
    "Exercise 0. Make sure you can run the following code (to check everything is working on your system):"
   ]
  },
  {
   "cell_type": "code",
   "execution_count": 1,
   "metadata": {},
   "outputs": [
    {
     "data": {
      "text/plain": [
       "6"
      ]
     },
     "execution_count": 1,
     "metadata": {},
     "output_type": "execute_result"
    }
   ],
   "source": [
    "3+3"
   ]
  },
  {
   "cell_type": "markdown",
   "metadata": {},
   "source": [
    "Exercise 1. Let $E/\\mathbb{Q}$ be the elliptic curve $y^2 = x^3 + 76x + 123$. \n",
    "\n",
    "(a) What is the conductor of $E$?\n",
    "\n",
    "(b) What is the torsion subgroup?\n",
    "\n",
    "(c) What is the (algebraic) rank of $E$? Find a set of independent generators for the Mordell-Weil group $E(\\mathbb{Q})$."
   ]
  },
  {
   "cell_type": "code",
   "execution_count": 3,
   "metadata": {},
   "outputs": [
    {
     "data": {
      "text/plain": [
       "2^4 * 2164387"
      ]
     },
     "execution_count": 3,
     "metadata": {},
     "output_type": "execute_result"
    }
   ],
   "source": [
    "E = EllipticCurve([76,123])\n",
    "E.conductor().factor()"
   ]
  },
  {
   "cell_type": "markdown",
   "metadata": {},
   "source": [
    "Exercise 2. Let $E/\\mathbb{Q}$ be the elliptic curve $y^2 = x^3 - 17x + 1$. \n",
    "\n",
    "(a) Plot the real points of $E$.\n",
    "\n",
    "(b) Choose three primes of good reduction for $E$. For each prime $p$, compute the number of $\\mathbb{F}_{p^i}$-points for $1 \\leq i \\leq 5$. \n",
    "\n",
    "(c) Write a function which takes as input an elliptic curve over $\\mathbb{Q}$, and a prime of good reduction for that curve, and returns the number of $\\mathbb{F}_p$-points on the curve.\n",
    "\n",
    "(d) Use your function to find an elliptic curve over $\\mathbb{F}_{101}$ admitting 123 points (rational over $\\mathbb{F}_{101}$)."
   ]
  },
  {
   "cell_type": "code",
   "execution_count": null,
   "metadata": {},
   "outputs": [],
   "source": []
  },
  {
   "cell_type": "markdown",
   "metadata": {},
   "source": [
    "Exercise 3. Let $K$ be the Galois cubic field of smallest absolute discriminant. What is a polynomial which defines $K$?"
   ]
  },
  {
   "cell_type": "code",
   "execution_count": null,
   "metadata": {},
   "outputs": [],
   "source": []
  },
  {
   "cell_type": "markdown",
   "metadata": {},
   "source": [
    "Exercise 4. Let $a$ be a generator of the number field $K$ in Exercise 3, and let $E/K$ be the elliptic curve $y^2 + ay = x^3 + 10ax + 19$.\n",
    "\n",
    "(a) What is the conductor of $E$? What is the norm of this conductor?\n",
    "\n",
    "(b) Choose three prime ideals of good reduction for $E$. For each prime ideal $\\mathfrak{p}$, compute the number of $\\mathbb{F}_{\\mathfrak{p}}$-points."
   ]
  },
  {
   "cell_type": "code",
   "execution_count": null,
   "metadata": {},
   "outputs": [],
   "source": []
  },
  {
   "cell_type": "markdown",
   "metadata": {},
   "source": [
    "Exercise 5. Generalise the function you wrote in Exercise 2 to take as input an elliptic curve over any number field, and a prime ideal $\\mathfrak{p}$ of that number field of good reduction, and returns the number of $\\mathbb{F}_\\mathfrak{p}$-points on the curve."
   ]
  },
  {
   "cell_type": "code",
   "execution_count": null,
   "metadata": {},
   "outputs": [],
   "source": []
  },
  {
   "cell_type": "markdown",
   "metadata": {},
   "source": [
    "Exercise 6. Let $a$ be a generator of the number field $K$ in Exercise 3, and let $E/K$ be the elliptic curve ${y}^2+a{y}={x}^{3}-a{x}^{2}+\\left(652a^{2}-391a-1564\\right){x}+10528a^{2}-5979a-24046$. \n",
    "\n",
    "Take 200 prime ideals of $K$ of good reduction, and use your function from Exercise 5 to compute the number of points over the reduction. What do you notice? Can you explain this?"
   ]
  },
  {
   "cell_type": "code",
   "execution_count": null,
   "metadata": {},
   "outputs": [],
   "source": []
  }
 ],
 "metadata": {
  "kernelspec": {
   "display_name": "SageMath 9.2",
   "language": "sage",
   "name": "sagemath"
  },
  "language_info": {
   "codemirror_mode": {
    "name": "ipython",
    "version": 3
   },
   "file_extension": ".py",
   "mimetype": "text/x-python",
   "name": "python",
   "nbconvert_exporter": "python",
   "pygments_lexer": "ipython3",
   "version": "3.7.7"
  }
 },
 "nbformat": 4,
 "nbformat_minor": 4
}
